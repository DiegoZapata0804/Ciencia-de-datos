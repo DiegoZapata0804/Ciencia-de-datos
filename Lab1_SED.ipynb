{
  "nbformat": 4,
  "nbformat_minor": 0,
  "metadata": {
    "colab": {
      "name": "Lab1_SED.ipynb",
      "provenance": [],
      "include_colab_link": true
    },
    "kernelspec": {
      "name": "python3",
      "display_name": "Python 3"
    }
  },
  "cells": [
    {
      "cell_type": "markdown",
      "metadata": {
        "id": "view-in-github",
        "colab_type": "text"
      },
      "source": [
        "<a href=\"https://colab.research.google.com/github/DiegoZapata0804/Ciencia-de-datos/blob/master/Lab1_SED.ipynb\" target=\"_parent\"><img src=\"https://colab.research.google.com/assets/colab-badge.svg\" alt=\"Open In Colab\"/></a>"
      ]
    },
    {
      "cell_type": "code",
      "metadata": {
        "id": "Y7arfmcNgxH6",
        "colab_type": "code",
        "colab": {}
      },
      "source": [
        "%%bash\n",
        "cat > data.csv << EOF\n",
        "12/03/13;A;1;100,0\n",
        "05/12/13;a;1;100,0\n",
        "25/02/13;B;2;200,0\n",
        "04/04/13;N;1;\\N\n",
        "21/06/13;\\N;;\n",
        "13/06/14;A;;n\n",
        "12/05/14;C;\\N;\n",
        "05/09/14;\\n;3;150,1\n",
        "12/05/14;a;2;\\N\n",
        "28/02/13;c;\\N;\\N\n",
        "02/08/14;A;2;100,0\n",
        "1/9/2014;A;3;100,4\n",
        "EOF"
      ],
      "execution_count": 0,
      "outputs": []
    },
    {
      "cell_type": "code",
      "metadata": {
        "id": "0OOxz6Nxhknj",
        "colab_type": "code",
        "outputId": "8cf48510-a085-4ec7-b731-b309e102e957",
        "colab": {
          "base_uri": "https://localhost:8080/",
          "height": 221
        }
      },
      "source": [
        "#Valores iniciales válidos\n",
        "%%bash\n",
        "sed 's/\\b\\([0-9]\\)\\//0\\1\\//' data.csv >out1.txt\n",
        "cat out1.txt\n"
      ],
      "execution_count": 3,
      "outputs": [
        {
          "output_type": "stream",
          "text": [
            "12/03/13;A;1;100,0\n",
            "05/12/13;a;1;100,0\n",
            "25/02/13;B;2;200,0\n",
            "04/04/13;N;1;\\N\n",
            "21/06/13;\\N;;\n",
            "13/06/14;A;;n\n",
            "12/05/14;C;\\N;\n",
            "05/09/14;\\n;3;150,1\n",
            "12/05/14;a;2;\\N\n",
            "28/02/13;c;\\N;\\N\n",
            "02/08/14;A;2;100,0\n",
            "01/9/2014;A;3;100,4\n"
          ],
          "name": "stdout"
        }
      ]
    },
    {
      "cell_type": "code",
      "metadata": {
        "id": "8ZpzmdQSwabw",
        "colab_type": "code",
        "outputId": "c6c00418-482a-4751-e3ca-1b39df610696",
        "colab": {
          "base_uri": "https://localhost:8080/",
          "height": 221
        }
      },
      "source": [
        "%%bash\n",
        "sed 's/\\([a-z]\\)/\\u\\1/g' out1.txt > out2.txt\n",
        "sed 's/;;/;\\\\N;/g' out2.txt >out3.txt\n",
        "sed 's/;$/;\\\\N/g' out3.txt >out4.txt\n",
        "sed 's/\\\\n/\\\\N/g' out4.txt >out5.txt\n",
        "sed 's/;N/;\\\\N/g' out5.txt>data_inicial.txt\n",
        "cat data_inicial.txt"
      ],
      "execution_count": 4,
      "outputs": [
        {
          "output_type": "stream",
          "text": [
            "12/03/13;A;1;100,0\n",
            "05/12/13;A;1;100,0\n",
            "25/02/13;B;2;200,0\n",
            "04/04/13;\\N;1;\\N\n",
            "21/06/13;\\N;\\N;\\N\n",
            "13/06/14;A;\\N;\\N\n",
            "12/05/14;C;\\N;\\N\n",
            "05/09/14;\\N;3;150,1\n",
            "12/05/14;A;2;\\N\n",
            "28/02/13;C;\\N;\\N\n",
            "02/08/14;A;2;100,0\n",
            "01/9/2014;A;3;100,4\n"
          ],
          "name": "stdout"
        }
      ]
    },
    {
      "cell_type": "code",
      "metadata": {
        "id": "93-9VjoziMS3",
        "colab_type": "code",
        "outputId": "65cda139-fa2d-4e19-c76f-c85b4f82f07c",
        "colab": {
          "base_uri": "https://localhost:8080/",
          "height": 221
        }
      },
      "source": [
        "%%bash\n",
        "#Convierta el formato de las fechas de DD/MM/YY a YYYY-MM-DD.\n",
        "sed -n '1,$p' data_inicial.txt"
      ],
      "execution_count": 5,
      "outputs": [
        {
          "output_type": "stream",
          "text": [
            "12/03/13;A;1;100,0\n",
            "05/12/13;A;1;100,0\n",
            "25/02/13;B;2;200,0\n",
            "04/04/13;\\N;1;\\N\n",
            "21/06/13;\\N;\\N;\\N\n",
            "13/06/14;A;\\N;\\N\n",
            "12/05/14;C;\\N;\\N\n",
            "05/09/14;\\N;3;150,1\n",
            "12/05/14;A;2;\\N\n",
            "28/02/13;C;\\N;\\N\n",
            "02/08/14;A;2;100,0\n",
            "01/9/2014;A;3;100,4\n"
          ],
          "name": "stdout"
        }
      ]
    },
    {
      "cell_type": "code",
      "metadata": {
        "id": "ibA0VDOQ30D7",
        "colab_type": "code",
        "outputId": "25eac9a0-79d4-4346-bd3c-72e906347485",
        "colab": {
          "base_uri": "https://localhost:8080/",
          "height": 221
        }
      },
      "source": [
        "%%bash\n",
        "sed 's/\\/\\([0-9]\\)\\([0-9]\\);/\\/20\\1\\2;/' data_inicial.txt>out6.txt\n",
        "sed 's|/\\([0-9]\\)/|/0\\1/|' out6.txt>out7.txt\n",
        "sed 's|\\([0-9]*\\)/\\([0-9]*\\)/\\([0-9]*\\);|\\3-\\2-\\1;|' out7.txt>out8.txt\n",
        "cat out8.txt"
      ],
      "execution_count": 6,
      "outputs": [
        {
          "output_type": "stream",
          "text": [
            "2013-03-12;A;1;100,0\n",
            "2013-12-05;A;1;100,0\n",
            "2013-02-25;B;2;200,0\n",
            "2013-04-04;\\N;1;\\N\n",
            "2013-06-21;\\N;\\N;\\N\n",
            "2014-06-13;A;\\N;\\N\n",
            "2014-05-12;C;\\N;\\N\n",
            "2014-09-05;\\N;3;150,1\n",
            "2014-05-12;A;2;\\N\n",
            "2013-02-28;C;\\N;\\N\n",
            "2014-08-02;A;2;100,0\n",
            "2014-09-01;A;3;100,4\n"
          ],
          "name": "stdout"
        }
      ]
    },
    {
      "cell_type": "code",
      "metadata": {
        "id": "eKWIgrtS495T",
        "colab_type": "code",
        "outputId": "207cd038-ef55-4ef6-ddb8-2ad8cd0cb5dd",
        "colab": {
          "base_uri": "https://localhost:8080/",
          "height": 221
        }
      },
      "source": [
        "#Transforme el archivo para que todos los campos nulos aparezcan como \\N.\n",
        "%%bash\n",
        "sed -e 's|;;|\\\\N|g' -e 's|;$|\\\\N|g' out8.txt>out9.txt\n",
        "sed 's|;\\([0-9]*\\),|;\\1.|g' out9.txt>out10.txt\n",
        "sed 's|;|,|g' out10.txt>out11.txt\n",
        "\n",
        "cat out11.txt"
      ],
      "execution_count": 8,
      "outputs": [
        {
          "output_type": "stream",
          "text": [
            "2013-03-12,A,1,100.0\n",
            "2013-12-05,A,1,100.0\n",
            "2013-02-25,B,2,200.0\n",
            "2013-04-04,\\N,1,\\N\n",
            "2013-06-21,\\N,\\N,\\N\n",
            "2014-06-13,A,\\N,\\N\n",
            "2014-05-12,C,\\N,\\N\n",
            "2014-09-05,\\N,3,150.1\n",
            "2014-05-12,A,2,\\N\n",
            "2013-02-28,C,\\N,\\N\n",
            "2014-08-02,A,2,100.0\n",
            "2014-09-01,A,3,100.4\n"
          ],
          "name": "stdout"
        }
      ]
    },
    {
      "cell_type": "code",
      "metadata": {
        "id": "4Ay7ku_R8m_K",
        "colab_type": "code",
        "colab": {}
      },
      "source": [
        "#Código consolidado\n",
        "%%bash\n",
        "cat > data.csv << EOF\n",
        "12/03/13;A;1;100,0\n",
        "05/12/13;a;1;100,0\n",
        "25/02/13;B;2;200,0\n",
        "04/04/13;N;1;\\N\n",
        "21/06/13;\\N;;\n",
        "13/06/14;A;;n\n",
        "12/05/14;C;\\N;\n",
        "05/09/14;\\n;3;150,1\n",
        "12/05/14;a;2;\\N\n",
        "28/02/13;c;\\N;\\N\n",
        "02/08/14;A;2;100,0\n",
        "1/9/2014;A;3;100,4\n",
        "EOF\n",
        "\n",
        "sed 's/\\b\\([0-9]\\)\\//0\\1\\//' data.csv >out1.txt\n",
        "sed 's/\\([a-z]\\)/\\u\\1/g' out1.txt > out2.txt\n",
        "sed 's/;;/;\\\\N;/g' out2.txt >out3.txt\n",
        "sed 's/;$/;\\\\N/g' out3.txt >out4.txt\n",
        "sed 's/\\\\n/\\\\N/g' out4.txt >out5.txt\n",
        "sed 's/;N/;\\\\N/g' out5.txt>data_inicial.txt\n",
        "cat data_inicial.txt\n",
        "\n",
        "#Convierta el formato de las fechas de DD/MM/YY a YYYY-MM-DD.\n",
        "sed -n '1,$p' data_inicial.txt\n",
        "sed 's/\\/\\([0-9]\\)\\([0-9]\\);/\\/20\\1\\2;/' data_inicial.txt>out6.txt\n",
        "sed 's|/\\([0-9]\\)/|/0\\1/|' out6.txt>out7.txt\n",
        "sed 's|\\([0-9]*\\)/\\([0-9]*\\)/\\([0-9]*\\);|\\3-\\2-\\1;|' out7.txt>out8.txt\n",
        "sed -e 's|;;|\\\\N|g' -e 's|;$|\\\\N|g' out8.txt>out9.txt\n",
        "sed 's|;\\([0-9]*\\),|;\\1.|g' out9.txt>out10.txt\n",
        "sed 's|;|,|g' out10.txt>out11.txt\n",
        "cat out11.txt"
      ],
      "execution_count": 0,
      "outputs": []
    }
  ]
}