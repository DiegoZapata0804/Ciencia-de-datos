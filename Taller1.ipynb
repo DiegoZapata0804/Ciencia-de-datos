{
  "nbformat": 4,
  "nbformat_minor": 0,
  "metadata": {
    "colab": {
      "name": "Taller1.ipynb",
      "provenance": [],
      "include_colab_link": true
    },
    "kernelspec": {
      "name": "python3",
      "display_name": "Python 3"
    }
  },
  "cells": [
    {
      "cell_type": "markdown",
      "metadata": {
        "id": "view-in-github",
        "colab_type": "text"
      },
      "source": [
        "<a href=\"https://colab.research.google.com/github/DiegoZapata0804/Ciencia-de-datos/blob/master/Taller1.ipynb\" target=\"_parent\"><img src=\"https://colab.research.google.com/assets/colab-badge.svg\" alt=\"Open In Colab\"/></a>"
      ]
    },
    {
      "cell_type": "code",
      "metadata": {
        "id": "HcDySpqbLARd",
        "colab_type": "code",
        "colab": {}
      },
      "source": [
        "#Punto1\n",
        "\n",
        "!mkdir Taller1"
      ],
      "execution_count": 0,
      "outputs": []
    },
    {
      "cell_type": "code",
      "metadata": {
        "id": "4huZBIQvLXam",
        "colab_type": "code",
        "colab": {}
      },
      "source": [
        "#Punto2\n",
        "!mkdir ./Taller1/1 && mkdir ./Taller1/2 && mkdir ./Taller1/3"
      ],
      "execution_count": 0,
      "outputs": []
    },
    {
      "cell_type": "code",
      "metadata": {
        "id": "KFt1_puGLmOU",
        "colab_type": "code",
        "colab": {}
      },
      "source": [
        "#Punto3\n",
        "!mkdir ./Taller1/1/1-1 &&mkdir ./Taller1/1/1-2 && mkdir ./Taller1/1/1-3 "
      ],
      "execution_count": 0,
      "outputs": []
    },
    {
      "cell_type": "code",
      "metadata": {
        "id": "ezgMbbwdL5U4",
        "colab_type": "code",
        "colab": {}
      },
      "source": [
        "#Punto4\n",
        "!mkdir ./Taller1/2/2-1 &&mkdir ./Taller1/2/2-2 && mkdir ./Taller1/2/3-3\n",
        "  "
      ],
      "execution_count": 0,
      "outputs": []
    },
    {
      "cell_type": "code",
      "metadata": {
        "id": "DZsUQrhDMExo",
        "colab_type": "code",
        "colab": {}
      },
      "source": [
        "!rm -rf ./Taller1/2/3-3"
      ],
      "execution_count": 0,
      "outputs": []
    },
    {
      "cell_type": "code",
      "metadata": {
        "id": "3cLpxfzuMP2R",
        "colab_type": "code",
        "colab": {}
      },
      "source": [
        "!mkdir ./Taller1/2/2-3"
      ],
      "execution_count": 0,
      "outputs": []
    },
    {
      "cell_type": "code",
      "metadata": {
        "id": "eVZFohERMWtp",
        "colab_type": "code",
        "colab": {
          "base_uri": "https://localhost:8080/",
          "height": 34
        },
        "outputId": "4a35654d-d103-4eb6-bd58-d8dba0196f3e"
      },
      "source": [
        "!tree ./Taller1"
      ],
      "execution_count": 9,
      "outputs": [
        {
          "output_type": "stream",
          "text": [
            "/bin/bash: tree: command not found\n"
          ],
          "name": "stdout"
        }
      ]
    },
    {
      "cell_type": "code",
      "metadata": {
        "id": "nogFa5ETMqYC",
        "colab_type": "code",
        "colab": {
          "base_uri": "https://localhost:8080/",
          "height": 289
        },
        "outputId": "8769be03-36fa-485d-9d71-91c3ad5775a6"
      },
      "source": [
        "!apt-get install tree"
      ],
      "execution_count": 11,
      "outputs": [
        {
          "output_type": "stream",
          "text": [
            "Reading package lists... Done\n",
            "Building dependency tree       \n",
            "Reading state information... Done\n",
            "The following NEW packages will be installed:\n",
            "  tree\n",
            "0 upgraded, 1 newly installed, 0 to remove and 8 not upgraded.\n",
            "Need to get 40.7 kB of archives.\n",
            "After this operation, 105 kB of additional disk space will be used.\n",
            "Get:1 http://archive.ubuntu.com/ubuntu bionic/universe amd64 tree amd64 1.7.0-5 [40.7 kB]\n",
            "Fetched 40.7 kB in 0s (98.0 kB/s)\n",
            "Selecting previously unselected package tree.\n",
            "(Reading database ... 131183 files and directories currently installed.)\n",
            "Preparing to unpack .../tree_1.7.0-5_amd64.deb ...\n",
            "Unpacking tree (1.7.0-5) ...\n",
            "Setting up tree (1.7.0-5) ...\n",
            "Processing triggers for man-db (2.8.3-2ubuntu0.1) ...\n"
          ],
          "name": "stdout"
        }
      ]
    },
    {
      "cell_type": "code",
      "metadata": {
        "id": "cYew9emOMwWQ",
        "colab_type": "code",
        "colab": {
          "base_uri": "https://localhost:8080/",
          "height": 221
        },
        "outputId": "2fe120af-7ac9-4f46-b1df-1af9b5e6ef11"
      },
      "source": [
        "!tree ./Taller1"
      ],
      "execution_count": 12,
      "outputs": [
        {
          "output_type": "stream",
          "text": [
            "./Taller1\n",
            "├── 1\n",
            "│   ├── 1-1\n",
            "│   ├── 1-2\n",
            "│   └── 1-3\n",
            "├── 2\n",
            "│   ├── 2-1\n",
            "│   ├── 2-2\n",
            "│   └── 2-3\n",
            "└── 3\n",
            "\n",
            "9 directories, 0 files\n"
          ],
          "name": "stdout"
        }
      ]
    },
    {
      "cell_type": "code",
      "metadata": {
        "id": "aFdIr_SLNHaq",
        "colab_type": "code",
        "colab": {}
      },
      "source": [
        "!touch ./Taller1/1/1-1/_SUCCESS && touch ./Taller1/1/1-1/part_0 "
      ],
      "execution_count": 0,
      "outputs": []
    },
    {
      "cell_type": "code",
      "metadata": {
        "id": "Et2FV7mdNnDZ",
        "colab_type": "code",
        "colab": {}
      },
      "source": [
        "!cp ./Taller1/1/1-1/part_0 ./Taller1/1/1-1/part_1 && cp ./Taller1/1/1-1/part_0 ./Taller1/1/1-1/part_2 "
      ],
      "execution_count": 0,
      "outputs": []
    },
    {
      "cell_type": "code",
      "metadata": {
        "id": "BPKp5TV_N6-L",
        "colab_type": "code",
        "colab": {
          "base_uri": "https://localhost:8080/",
          "height": 34
        },
        "outputId": "9dba18fa-7670-4d28-ed6b-0c8df242a163"
      },
      "source": [
        "!pwd"
      ],
      "execution_count": 16,
      "outputs": [
        {
          "output_type": "stream",
          "text": [
            "/content\n"
          ],
          "name": "stdout"
        }
      ]
    },
    {
      "cell_type": "code",
      "metadata": {
        "id": "xTm6vARdPbLN",
        "colab_type": "code",
        "colab": {}
      },
      "source": [
        "!mv ./Taller1/1/1-1/part_0 ./Taller1/1/1-1/part_00001"
      ],
      "execution_count": 0,
      "outputs": []
    },
    {
      "cell_type": "code",
      "metadata": {
        "id": "BeTxH1KXPxMC",
        "colab_type": "code",
        "colab": {
          "base_uri": "https://localhost:8080/",
          "height": 34
        },
        "outputId": "ab1b9b75-7d23-45db-f740-f48184a0654f"
      },
      "source": [
        "!mv part_1 part_1111"
      ],
      "execution_count": 20,
      "outputs": [
        {
          "output_type": "stream",
          "text": [
            "mv: cannot stat 'part_1': No such file or directory\n"
          ],
          "name": "stdout"
        }
      ]
    },
    {
      "cell_type": "code",
      "metadata": {
        "id": "5mWXR_GCQOIo",
        "colab_type": "code",
        "colab": {}
      },
      "source": [
        "!mv "
      ],
      "execution_count": 0,
      "outputs": []
    }
  ]
}