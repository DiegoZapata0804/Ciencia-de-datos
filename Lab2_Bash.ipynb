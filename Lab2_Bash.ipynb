{
  "nbformat": 4,
  "nbformat_minor": 0,
  "metadata": {
    "colab": {
      "name": "Lab2_Bash.ipynb",
      "provenance": [],
      "include_colab_link": true
    },
    "kernelspec": {
      "name": "python3",
      "display_name": "Python 3"
    }
  },
  "cells": [
    {
      "cell_type": "markdown",
      "metadata": {
        "id": "view-in-github",
        "colab_type": "text"
      },
      "source": [
        "<a href=\"https://colab.research.google.com/github/DiegoZapata0804/Ciencia-de-datos/blob/master/Lab2_Bash.ipynb\" target=\"_parent\"><img src=\"https://colab.research.google.com/assets/colab-badge.svg\" alt=\"Open In Colab\"/></a>"
      ]
    },
    {
      "cell_type": "code",
      "metadata": {
        "id": "HbGXi0bjaWvn",
        "colab_type": "code",
        "colab": {}
      },
      "source": [
        "%%bash\n",
        "cat > data1.csv <<EOF\n",
        "E\tjjj:3,bbb:0,ddd:9,ggg:8,hhh:2\n",
        "A\tccc:2,ddd:0,aaa:3,hhh:9\n",
        "B\tddd:2,ggg:5,ccc:6,jjj:1\n",
        "EOF\n",
        "\n",
        "cat >data2.csv <<EOF\n",
        "A\thhh:9,iii:5,eee:7,bbb:1\n",
        "C\tiii:6,ddd:5,eee:4,jjj:3\n",
        "EOF\n",
        "\n",
        "cat >data3.csv <<EOF\n",
        "A\tbbb:2,hhh:0,ccc:4,fff:1,aaa:7\n",
        "A\taaa:5,fff:8,ddd:2,iii:0,jjj:7,ccc:1\n",
        "B\tfff:3,hhh:1,ddd:2\n",
        "EOF"
      ],
      "execution_count": 0,
      "outputs": []
    },
    {
      "cell_type": "code",
      "metadata": {
        "id": "g_n01h-Tan0e",
        "colab_type": "code",
        "colab": {}
      },
      "source": [
        "%%bash\n",
        "ls *.csv >var2"
      ],
      "execution_count": 0,
      "outputs": []
    },
    {
      "cell_type": "code",
      "metadata": {
        "id": "WVYc20kkdmmu",
        "colab_type": "code",
        "outputId": "50d6ef2f-4ff5-472a-d647-57e126985fa9",
        "colab": {
          "base_uri": "https://localhost:8080/",
          "height": 68
        }
      },
      "source": [
        "%%bash\n",
        "less data1.csv"
      ],
      "execution_count": 3,
      "outputs": [
        {
          "output_type": "stream",
          "text": [
            "E\tjjj:3,bbb:0,ddd:9,ggg:8,hhh:2\n",
            "A\tccc:2,ddd:0,aaa:3,hhh:9\n",
            "B\tddd:2,ggg:5,ccc:6,jjj:1\n"
          ],
          "name": "stdout"
        }
      ]
    },
    {
      "cell_type": "code",
      "metadata": {
        "id": "JHoOIRDtgZIw",
        "colab_type": "code",
        "outputId": "0dbc919b-dd98-441e-c4a3-86584cb9e60a",
        "colab": {
          "base_uri": "https://localhost:8080/",
          "height": 612
        }
      },
      "source": [
        "%%bash\n",
        "#nombre-linea-letra-conjunto\n",
        "\n",
        "for filename in *.csv\n",
        "do\n",
        "  nline=$(wc -l $filename |cut -f1 -d' ')\n",
        "  for i in $(seq 1 $nline)\n",
        "  do  \n",
        "        letter=$(sed -n \"$i p\" $filename| cut -c 1-2)\n",
        "        ncol=$(sed -n \"$i p\" $filename|cut -d\" \" -f2| tr \",\" \"\\n\"|wc -l |cut -c 1-2)\n",
        "        bloq=($(sed -n \"$i p\" $filename |cut -d\" \" -f2| tr \",\" \"\\n\"))\n",
        "        \n",
        "        for l in $(seq 1 $ncol)\n",
        "        do\n",
        "              echo $filename $i $letter ${bloq[l]}\n",
        "        done\n",
        "  done\n",
        "done\n",
        "  "
      ],
      "execution_count": 261,
      "outputs": [
        {
          "output_type": "stream",
          "text": [
            "data1.csv 1 E jjj:3\n",
            "data1.csv 1 E bbb:0\n",
            "data1.csv 1 E ddd:9\n",
            "data1.csv 1 E ggg:8\n",
            "data1.csv 1 E hhh:2\n",
            "data1.csv 2 A ccc:2\n",
            "data1.csv 2 A ddd:0\n",
            "data1.csv 2 A aaa:3\n",
            "data1.csv 2 A hhh:9\n",
            "data1.csv 3 B ddd:2\n",
            "data1.csv 3 B ggg:5\n",
            "data1.csv 3 B ccc:6\n",
            "data1.csv 3 B jjj:1\n",
            "data2.csv 1 A hhh:9\n",
            "data2.csv 1 A iii:5\n",
            "data2.csv 1 A eee:7\n",
            "data2.csv 1 A bbb:1\n",
            "data2.csv 2 C iii:6\n",
            "data2.csv 2 C ddd:5\n",
            "data2.csv 2 C eee:4\n",
            "data2.csv 2 C jjj:3\n",
            "data3.csv 1 A bbb:2\n",
            "data3.csv 1 A hhh:0\n",
            "data3.csv 1 A ccc:4\n",
            "data3.csv 1 A fff:1\n",
            "data3.csv 1 A aaa:7\n",
            "data3.csv 2 A aaa:5\n",
            "data3.csv 2 A fff:8\n",
            "data3.csv 2 A ddd:2\n",
            "data3.csv 2 A iii:0\n",
            "data3.csv 2 A jjj:7\n",
            "data3.csv 2 A ccc:1\n",
            "data3.csv 3 B fff:3\n",
            "data3.csv 3 B hhh:1\n",
            "data3.csv 3 B ddd:2\n"
          ],
          "name": "stdout"
        }
      ]
    }
  ]
}