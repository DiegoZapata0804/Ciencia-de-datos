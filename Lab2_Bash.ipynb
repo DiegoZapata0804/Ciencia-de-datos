{
  "nbformat": 4,
  "nbformat_minor": 0,
  "metadata": {
    "colab": {
      "name": "Lab2_Bash.ipynb",
      "provenance": [],
      "include_colab_link": true
    },
    "kernelspec": {
      "name": "python3",
      "display_name": "Python 3"
    }
  },
  "cells": [
    {
      "cell_type": "markdown",
      "metadata": {
        "id": "view-in-github",
        "colab_type": "text"
      },
      "source": [
        "<a href=\"https://colab.research.google.com/github/DiegoZapata0804/Ciencia-de-datos/blob/master/Lab2_Bash.ipynb\" target=\"_parent\"><img src=\"https://colab.research.google.com/assets/colab-badge.svg\" alt=\"Open In Colab\"/></a>"
      ]
    },
    {
      "cell_type": "code",
      "metadata": {
        "id": "HbGXi0bjaWvn",
        "colab_type": "code",
        "colab": {}
      },
      "source": [
        "%%bash\n",
        "cat > data1.csv <<EOF\n",
        "E\tjjj:3,bbb:0,ddd:9,ggg:8,hhh:2\n",
        "A\tccc:2,ddd:0,aaa:3,hhh:9\n",
        "B\tddd:2,ggg:5,ccc:6,jjj:1\n",
        "EOF\n",
        "\n",
        "cat >data2.csv <<EOF\n",
        "A   hhh:9,iii:5,eee:7,bbb:1\n",
        "C\tiii:6,ddd:5,eee:4,jjj:3\n",
        "EOF\n",
        "\n",
        "cat >data3.csv <<EOF\n",
        "A\tbbb:2,hhh:0,ccc:4,fff:1,aaa:7\n",
        "A\taaa:5,fff:8,ddd:2,iii:0,jjj:7,ccc:1\n",
        "B\tfff:3,hhh:1,ddd:2\n",
        "EOF"
      ],
      "execution_count": 0,
      "outputs": []
    },
    {
      "cell_type": "code",
      "metadata": {
        "id": "g_n01h-Tan0e",
        "colab_type": "code",
        "colab": {}
      },
      "source": [
        "%%bash\n",
        "ls *.csv >var2"
      ],
      "execution_count": 0,
      "outputs": []
    },
    {
      "cell_type": "code",
      "metadata": {
        "id": "WVYc20kkdmmu",
        "colab_type": "code",
        "colab": {
          "base_uri": "https://localhost:8080/",
          "height": 68
        },
        "outputId": "b4d17001-3268-44e6-dbbd-fb91e6d65927"
      },
      "source": [
        "%%bash\n",
        "less data1.csv"
      ],
      "execution_count": 9,
      "outputs": [
        {
          "output_type": "stream",
          "text": [
            "E\tjjj:3,bbb:0,ddd:9,ggg:8,hhh:2\n",
            "A\tccc:2,ddd:0,aaa:3,hhh:9\n",
            "B\tddd:2,ggg:5,ccc:6,jjj:1\n"
          ],
          "name": "stdout"
        }
      ]
    },
    {
      "cell_type": "code",
      "metadata": {
        "id": "JHoOIRDtgZIw",
        "colab_type": "code",
        "colab": {
          "base_uri": "https://localhost:8080/",
          "height": 51
        },
        "outputId": "c5c76bb2-cf1e-4f38-f973-57f9b02c431b"
      },
      "source": [
        "%%bash\n",
        "var1=\"Hola\"\n",
        "for filename in ls *.csv\n",
        "  for letter in ls\n",
        "    do\n",
        "    echo $filename $var1 $letter\n",
        "    done"
      ],
      "execution_count": 40,
      "outputs": [
        {
          "output_type": "stream",
          "text": [
            "bash: line 3: syntax error near unexpected token `for'\n",
            "bash: line 3: `  for letter in ls'\n"
          ],
          "name": "stderr"
        }
      ]
    },
    {
      "cell_type": "code",
      "metadata": {
        "id": "J5mOUq8rjQ9O",
        "colab_type": "code",
        "colab": {}
      },
      "source": [
        ""
      ],
      "execution_count": 0,
      "outputs": []
    }
  ]
}