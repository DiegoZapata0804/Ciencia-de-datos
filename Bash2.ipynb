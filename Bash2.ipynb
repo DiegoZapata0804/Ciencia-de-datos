{
  "nbformat": 4,
  "nbformat_minor": 0,
  "metadata": {
    "colab": {
      "name": "Bash2.ipynb",
      "provenance": [],
      "include_colab_link": true
    },
    "kernelspec": {
      "name": "python3",
      "display_name": "Python 3"
    }
  },
  "cells": [
    {
      "cell_type": "markdown",
      "metadata": {
        "id": "view-in-github",
        "colab_type": "text"
      },
      "source": [
        "<a href=\"https://colab.research.google.com/github/DiegoZapata0804/Ciencia-de-datos/blob/master/Bash2.ipynb\" target=\"_parent\"><img src=\"https://colab.research.google.com/assets/colab-badge.svg\" alt=\"Open In Colab\"/></a>"
      ]
    },
    {
      "cell_type": "code",
      "metadata": {
        "id": "0PvIT0-hccpT",
        "colab_type": "code",
        "colab": {}
      },
      "source": [
        "%%bash\n",
        "echo A,B,C > demo.csv"
      ],
      "execution_count": 0,
      "outputs": []
    },
    {
      "cell_type": "code",
      "metadata": {
        "id": "Yjq2lg9KcwWZ",
        "colab_type": "code",
        "outputId": "810f04e8-1a05-4e98-b278-81b847083e18",
        "colab": {
          "base_uri": "https://localhost:8080/",
          "height": 34
        }
      },
      "source": [
        "%%bash\n",
        "head -n 1 demo.csv | tr \",\" \"\\n\"|wc -l"
      ],
      "execution_count": 0,
      "outputs": [
        {
          "output_type": "stream",
          "text": [
            "3\n"
          ],
          "name": "stdout"
        }
      ]
    },
    {
      "cell_type": "code",
      "metadata": {
        "id": "tiEE2DWfdO0x",
        "colab_type": "code",
        "outputId": "914cc1f1-215b-42a2-fff4-99d850227f85",
        "colab": {
          "base_uri": "https://localhost:8080/",
          "height": 34
        }
      },
      "source": [
        "%%writefile concol\n",
        "#!/bin/bash\n",
        "head -n 1 $1 | tr \",\" \"\\n\" |wc -l"
      ],
      "execution_count": 0,
      "outputs": [
        {
          "output_type": "stream",
          "text": [
            "Writing concol\n"
          ],
          "name": "stdout"
        }
      ]
    },
    {
      "cell_type": "code",
      "metadata": {
        "id": "UlyzrSkNhmp-",
        "colab_type": "code",
        "colab": {}
      },
      "source": [
        "!chmod +x concol"
      ],
      "execution_count": 0,
      "outputs": []
    },
    {
      "cell_type": "code",
      "metadata": {
        "id": "Vom0vEAmhvt3",
        "colab_type": "code",
        "outputId": "23bcaa84-4357-4359-84f1-d6eaacf1780a",
        "colab": {
          "base_uri": "https://localhost:8080/",
          "height": 34
        }
      },
      "source": [
        "!./concol demo.csv"
      ],
      "execution_count": 0,
      "outputs": [
        {
          "output_type": "stream",
          "text": [
            "3\n"
          ],
          "name": "stdout"
        }
      ]
    },
    {
      "cell_type": "code",
      "metadata": {
        "id": "__8x8DEOh1Ni",
        "colab_type": "code",
        "outputId": "ca7a7a92-844e-455b-80f6-92fb8bab38fc",
        "colab": {
          "base_uri": "https://localhost:8080/",
          "height": 34
        }
      },
      "source": [
        "%%bash\n",
        "a=\"Hola\"\n",
        "echo $a"
      ],
      "execution_count": 0,
      "outputs": [
        {
          "output_type": "stream",
          "text": [
            "Hola\n"
          ],
          "name": "stdout"
        }
      ]
    },
    {
      "cell_type": "code",
      "metadata": {
        "id": "SEPiJT-gjY13",
        "colab_type": "code",
        "outputId": "a3a28911-6b28-4051-b907-cee1419f7147",
        "colab": {
          "base_uri": "https://localhost:8080/",
          "height": 34
        }
      },
      "source": [
        "%%bash\n",
        "echo Directorio: $PWD"
      ],
      "execution_count": 0,
      "outputs": [
        {
          "output_type": "stream",
          "text": [
            "Directorio: /content\n"
          ],
          "name": "stdout"
        }
      ]
    },
    {
      "cell_type": "code",
      "metadata": {
        "id": "8VwgLun6jpq6",
        "colab_type": "code",
        "outputId": "0d84a015-bfd5-44e9-9ab2-31ad20ec3a0b",
        "colab": {
          "base_uri": "https://localhost:8080/",
          "height": 34
        }
      },
      "source": [
        "%%bash\n",
        "x=$(ls -1)\n",
        "echo $x"
      ],
      "execution_count": 0,
      "outputs": [
        {
          "output_type": "stream",
          "text": [
            "concol demo.csv sample_data\n"
          ],
          "name": "stdout"
        }
      ]
    },
    {
      "cell_type": "code",
      "metadata": {
        "id": "oOP4wa2Jkuez",
        "colab_type": "code",
        "outputId": "83e69cfe-3578-414b-a9f0-5552a090ee66",
        "colab": {
          "base_uri": "https://localhost:8080/",
          "height": 221
        }
      },
      "source": [
        "%%bash\n",
        "\n",
        "for x in *\n",
        "do\n",
        "  nn=$x|tr \" \" \"-\"\n",
        "  rm $x $nn \n",
        "done"
      ],
      "execution_count": 0,
      "outputs": [
        {
          "output_type": "stream",
          "text": [
            "rm: cannot remove 'Archivo': No such file or directory\n",
            "rm: cannot remove '1.txt': No such file or directory\n",
            "rm: cannot remove 'Archivo': No such file or directory\n",
            "rm: cannot remove '2.txt': No such file or directory\n",
            "rm: cannot remove 'Archivo': No such file or directory\n",
            "rm: cannot remove '3.txt': No such file or directory\n",
            "rm: cannot remove 'Archivo': No such file or directory\n",
            "rm: cannot remove '4.txt': No such file or directory\n",
            "rm: cannot remove 'Archivo': No such file or directory\n",
            "rm: cannot remove '5.txt': No such file or directory\n",
            "rm: cannot remove 'Prueba': Is a directory\n",
            "rm: cannot remove 'sample_data': Is a directory\n"
          ],
          "name": "stderr"
        }
      ]
    },
    {
      "cell_type": "code",
      "metadata": {
        "id": "dhrolf8Ln5Zo",
        "colab_type": "code",
        "colab": {}
      },
      "source": [
        "%%bash\n",
        "for x in {1..5}\n",
        "  do\n",
        "  touch \"Archivo ${x}.txt\"\n",
        "  done\n",
        "  "
      ],
      "execution_count": 0,
      "outputs": []
    },
    {
      "cell_type": "code",
      "metadata": {
        "id": "lZzqZM5gp-Fp",
        "colab_type": "code",
        "outputId": "33cbaa95-fe6d-475d-b852-cac087b08de4",
        "colab": {
          "base_uri": "https://localhost:8080/",
          "height": 136
        }
      },
      "source": [
        "%%bash\n",
        "\n",
        "seq -f \"File %g\" 1 1 3 >out1.txt\n",
        "seq -f \"Archivo %g\" 4 1 7 >out2.txt\n",
        "cat out1.txt out2.txt"
      ],
      "execution_count": 0,
      "outputs": [
        {
          "output_type": "stream",
          "text": [
            "File 1\n",
            "File 2\n",
            "File 3\n",
            "Archivo 4\n",
            "Archivo 5\n",
            "Archivo 6\n",
            "Archivo 7\n"
          ],
          "name": "stdout"
        }
      ]
    },
    {
      "cell_type": "code",
      "metadata": {
        "id": "StcXsmQTKj2E",
        "colab_type": "code",
        "outputId": "07d12ae3-5fbe-4c94-924b-0026419e0d6d",
        "colab": {
          "base_uri": "https://localhost:8080/",
          "height": 136
        }
      },
      "source": [
        "%%bash\n",
        "tac out1.txt out2.txt"
      ],
      "execution_count": 0,
      "outputs": [
        {
          "output_type": "stream",
          "text": [
            "File 3\n",
            "File 2\n",
            "File 1\n",
            "Archivo 7\n",
            "Archivo 6\n",
            "Archivo 5\n",
            "Archivo 4\n"
          ],
          "name": "stdout"
        }
      ]
    },
    {
      "cell_type": "code",
      "metadata": {
        "id": "YGN1jutjdts4",
        "colab_type": "code",
        "colab": {}
      },
      "source": [
        "%%bash\n",
        "cat > out.txt <<EOF\n",
        "Date, Year, CustomerID, Value\n",
        "2013-01-12, 2013, 1, 100\n",
        "2014-05-12, 2014, 1, 100\n",
        "2013-02-25, 2013, 2, 200\n",
        "2013-04-04, 2013, 1, 100\n",
        "2013-06-21, 2013, 2, 200\n",
        "2014-05-12, 2014, 1, 100\n",
        "2014-05-12, 2014, 2, 200\n",
        "2013-02-28, 2013, 1, 100\n",
        "2013-08-02, 2013, 1, 100\n",
        "EOF"
      ],
      "execution_count": 0,
      "outputs": []
    },
    {
      "cell_type": "code",
      "metadata": {
        "id": "q12bnDyffcnS",
        "colab_type": "code",
        "colab": {}
      },
      "source": [
        "%%bash\n",
        "cut -d \",\" -f1 out.txt | cut -d \"-\" -f2 >mes.txt\n",
        "paste -d \",\" out.txt mes.txt >final.txt\n",
        "head -n 1 final.txt | sed \"s/Date/Mes/2\" < final.txt >out.txt"
      ],
      "execution_count": 0,
      "outputs": []
    },
    {
      "cell_type": "markdown",
      "metadata": {
        "id": "QY_1GYbfwojQ",
        "colab_type": "text"
      },
      "source": [
        ""
      ]
    },
    {
      "cell_type": "code",
      "metadata": {
        "id": "GpF9w0dEgqr3",
        "colab_type": "code",
        "outputId": "889eb7ac-533a-4c3b-e9e0-ecbb09c8a39a",
        "colab": {
          "base_uri": "https://localhost:8080/",
          "height": 170
        }
      },
      "source": [
        "%bash\n",
        "tail -n +2 out.txt"
      ],
      "execution_count": 0,
      "outputs": [
        {
          "output_type": "stream",
          "text": [
            "2013-01-12, 2013, 1, 100\n",
            "2014-05-12, 2014, 1, 100\n",
            "2013-02-25, 2013, 2, 200\n",
            "2013-04-04, 2013, 1, 100\n",
            "2013-06-21, 2013, 2, 200\n",
            "2014-05-12, 2014, 1, 100\n",
            "2014-05-12, 2014, 2, 200\n",
            "2013-02-28, 2013, 1, 100\n",
            "2013-08-02, 2013, 1, 100\n"
          ],
          "name": "stdout"
        }
      ]
    },
    {
      "cell_type": "code",
      "metadata": {
        "id": "clqWfH71lsPM",
        "colab_type": "code",
        "outputId": "8948ccec-f5fe-4c96-93e9-f0e076a3d456",
        "colab": {
          "base_uri": "https://localhost:8080/",
          "height": 85
        }
      },
      "source": [
        "%%bash\n",
        "echo \"Bash is a Unix shell and command language\n",
        "written by Brian Fox for the\n",
        "GNU Project as a free software\n",
        "replacement for the Bourne shell.\" > out3.txt\n",
        "cat out3.txt"
      ],
      "execution_count": 0,
      "outputs": [
        {
          "output_type": "stream",
          "text": [
            "Bash is a Unix shell and command language\n",
            "written by Brian Fox for the\n",
            "GNU Project as a free software\n",
            "replacement for the Bourne shell.\n"
          ],
          "name": "stdout"
        }
      ]
    },
    {
      "cell_type": "code",
      "metadata": {
        "id": "n6H3n8p0xj5J",
        "colab_type": "code",
        "outputId": "08e5911f-fa8e-4e87-d640-913174f0c4d6",
        "colab": {
          "base_uri": "https://localhost:8080/",
          "height": 85
        }
      },
      "source": [
        "%%bash\n",
        "cut -d\" \" -f5 out3.txt"
      ],
      "execution_count": 0,
      "outputs": [
        {
          "output_type": "stream",
          "text": [
            "shell\n",
            "for\n",
            "free\n",
            "shell.\n"
          ],
          "name": "stdout"
        }
      ]
    },
    {
      "cell_type": "code",
      "metadata": {
        "id": "pjpq_lM0xyLH",
        "colab_type": "code",
        "colab": {}
      },
      "source": [
        "%%bash\n",
        "cat > out.1 <<EOF\n",
        "1980-JAN-1+1:0:1.134\n",
        "1980-JAN-5+1:0:1.7\n",
        "1982-JAN-13+10:12:42.33\n",
        "EOF"
      ],
      "execution_count": 0,
      "outputs": []
    },
    {
      "cell_type": "code",
      "metadata": {
        "id": "j5rlO9QQxs_v",
        "colab_type": "code",
        "colab": {
          "base_uri": "https://localhost:8080/",
          "height": 68
        },
        "outputId": "568f7ed3-5e94-4f9b-9671-25c688fe1522"
      },
      "source": [
        "%%bash\n",
        "sed 's/-\\([0-9]\\)+/-0\\1+/' out.1 > out.2\n",
        "sed 's/+/ /' out.2 > out.3\n",
        "sed 's/ \\([0-9]\\):/ 0\\1:/' out.3>out.4\n",
        "sed 's/:\\([0-9]\\):/:0\\1:/' out.4>out.5\n",
        "sed 's#:\\([0-9]\\)\\.#:0\\1\\.#' out.5>out.6\n",
        "sed 's|\\.\\([0-9]*\\)||' out.6>out.7\n",
        "cat out.7\n"
      ],
      "execution_count": 109,
      "outputs": [
        {
          "output_type": "stream",
          "text": [
            "1980-JAN-01 01:00:01\n",
            "1980-JAN-05 01:00:01\n",
            "1982-JAN-13 10:12:42\n"
          ],
          "name": "stdout"
        }
      ]
    },
    {
      "cell_type": "code",
      "metadata": {
        "id": "7H2jXbMs0VmU",
        "colab_type": "code",
        "colab": {
          "base_uri": "https://localhost:8080/",
          "height": 34
        },
        "outputId": "38a6e49a-8df8-47df-9888-0f59749dfeec"
      },
      "source": [
        "#la idea es aplicar printf evitando la sustitución porque se pierde información decimal\n",
        "%%bash\n",
        "printf \"%2.2f\" 234.3"
      ],
      "execution_count": 110,
      "outputs": [
        {
          "output_type": "stream",
          "text": [
            "234.30"
          ],
          "name": "stdout"
        }
      ]
    },
    {
      "cell_type": "code",
      "metadata": {
        "id": "9loBPuFwYNBw",
        "colab_type": "code",
        "colab": {}
      },
      "source": [
        "%%bash\n",
        "cat > out.1 <<EOF\n",
        "AAAA 1234 SI\n",
        "BBBB 5678 SI\n",
        "CCCC 9012 NO\n",
        "EOF"
      ],
      "execution_count": 0,
      "outputs": []
    },
    {
      "cell_type": "code",
      "metadata": {
        "id": "OBwQaxnod7P6",
        "colab_type": "code",
        "colab": {
          "base_uri": "https://localhost:8080/",
          "height": 102
        },
        "outputId": "dfdcf45e-59eb-495e-ce3d-0d5787e633ac"
      },
      "source": [
        "%%bash\n",
        "sed -e'/BBBB/a\\EEEE 0000 SI' -e'/BBBB/i\\EEEE 1111 SI' out.1"
      ],
      "execution_count": 121,
      "outputs": [
        {
          "output_type": "stream",
          "text": [
            "AAAA 1234 SI\n",
            "EEEE 1111 SI\n",
            "BBBB 5678 SI\n",
            "EEEE 0000 SI\n",
            "CCCC 9012 NO\n"
          ],
          "name": "stdout"
        }
      ]
    },
    {
      "cell_type": "code",
      "metadata": {
        "id": "2nfvSl0Aetin",
        "colab_type": "code",
        "colab": {}
      },
      "source": [
        ""
      ],
      "execution_count": 0,
      "outputs": []
    }
  ]
}