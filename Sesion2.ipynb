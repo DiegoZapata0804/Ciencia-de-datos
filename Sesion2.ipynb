{
  "nbformat": 4,
  "nbformat_minor": 0,
  "metadata": {
    "colab": {
      "name": "Sesion2.ipynb",
      "provenance": [],
      "include_colab_link": true
    },
    "kernelspec": {
      "name": "python3",
      "display_name": "Python 3"
    }
  },
  "cells": [
    {
      "cell_type": "markdown",
      "metadata": {
        "id": "view-in-github",
        "colab_type": "text"
      },
      "source": [
        "<a href=\"https://colab.research.google.com/github/DiegoZapata0804/Ciencia-de-datos/blob/master/Sesion2.ipynb\" target=\"_parent\"><img src=\"https://colab.research.google.com/assets/colab-badge.svg\" alt=\"Open In Colab\"/></a>"
      ]
    },
    {
      "cell_type": "code",
      "metadata": {
        "id": "00O7Nph2v6ao",
        "colab_type": "code",
        "outputId": "ba1ef05e-9ee2-4cbd-d9b0-16ef9464831e",
        "colab": {
          "base_uri": "https://localhost:8080/",
          "height": 51
        }
      },
      "source": [
        "!seq -f \"Linea %g\"5"
      ],
      "execution_count": 0,
      "outputs": [
        {
          "output_type": "stream",
          "text": [
            "seq: missing operand\n",
            "Try 'seq --help' for more information.\n"
          ],
          "name": "stdout"
        }
      ]
    },
    {
      "cell_type": "code",
      "metadata": {
        "id": "_tRqKX_4wsaD",
        "colab_type": "code",
        "outputId": "50f0292a-68fc-4b26-a8e0-aa330c099997",
        "colab": {
          "base_uri": "https://localhost:8080/",
          "height": 34
        }
      },
      "source": [
        "!echo \"Holaaaaaa          Hi\""
      ],
      "execution_count": 0,
      "outputs": [
        {
          "output_type": "stream",
          "text": [
            "Holaaaaaa          Hi\n"
          ],
          "name": "stdout"
        }
      ]
    },
    {
      "cell_type": "code",
      "metadata": {
        "id": "zYEEradSxCSa",
        "colab_type": "code",
        "outputId": "5369e692-9de8-4674-8339-1dd3eb799818",
        "colab": {
          "base_uri": "https://localhost:8080/",
          "height": 34
        }
      },
      "source": [
        "!echo Holaaaaaaa                Hi"
      ],
      "execution_count": 0,
      "outputs": [
        {
          "output_type": "stream",
          "text": [
            "Holaaaaaaa Hi\n"
          ],
          "name": "stdout"
        }
      ]
    },
    {
      "cell_type": "code",
      "metadata": {
        "id": "nw-r1Yy8xF3K",
        "colab_type": "code",
        "outputId": "53429b16-d663-4322-f2ed-1e1d2a035cbb",
        "colab": {
          "base_uri": "https://localhost:8080/",
          "height": 102
        }
      },
      "source": [
        "!seq 5"
      ],
      "execution_count": 0,
      "outputs": [
        {
          "output_type": "stream",
          "text": [
            "1\n",
            "2\n",
            "3\n",
            "4\n",
            "5\n"
          ],
          "name": "stdout"
        }
      ]
    },
    {
      "cell_type": "code",
      "metadata": {
        "id": "jnHTLAmMyI3C",
        "colab_type": "code",
        "outputId": "17ce5712-ce6b-46c4-ea63-60b2d44ec0d2",
        "colab": {
          "base_uri": "https://localhost:8080/",
          "height": 68
        }
      },
      "source": [
        "!seq 0 4 10"
      ],
      "execution_count": 0,
      "outputs": [
        {
          "output_type": "stream",
          "text": [
            "0\n",
            "4\n",
            "8\n"
          ],
          "name": "stdout"
        }
      ]
    },
    {
      "cell_type": "code",
      "metadata": {
        "id": "0qkusvYxy4BC",
        "colab_type": "code",
        "outputId": "ba0eaad4-b1b7-450c-b134-7a3fe9063f4d",
        "colab": {
          "base_uri": "https://localhost:8080/",
          "height": 34
        }
      },
      "source": [
        "%%file demo.txt\n",
        "Hola toche, quieres salir conmigo"
      ],
      "execution_count": 0,
      "outputs": [
        {
          "output_type": "stream",
          "text": [
            "Writing demo.txt\n"
          ],
          "name": "stdout"
        }
      ]
    },
    {
      "cell_type": "code",
      "metadata": {
        "id": "Iuu7ZXb1zel8",
        "colab_type": "code",
        "colab": {}
      },
      "source": [
        "#Consulta\n",
        "#HTML: Es un lenguaje de marcado que se utiliza para desarrollar pag web, permitiendo crear la estructura de la misma \n",
        "#y organizar su contenido.\n"
      ],
      "execution_count": 0,
      "outputs": []
    },
    {
      "cell_type": "code",
      "metadata": {
        "id": "GZR79nVu3LfU",
        "colab_type": "code",
        "outputId": "8de37ea9-394d-4c0e-9389-1dcdc96f81fe",
        "colab": {
          "base_uri": "https://localhost:8080/",
          "height": 68
        }
      },
      "source": [
        "%%bash\n",
        "echo -e \"hola\\n mundo \\n hi\""
      ],
      "execution_count": 0,
      "outputs": [
        {
          "output_type": "stream",
          "text": [
            "hola\n",
            " mundo \n",
            " hi\n"
          ],
          "name": "stdout"
        }
      ]
    },
    {
      "cell_type": "code",
      "metadata": {
        "id": "LfQ4m9E43ZIr",
        "colab_type": "code",
        "outputId": "c519e9c3-2f84-4ee2-97ab-b91c58e96a6e",
        "colab": {
          "base_uri": "https://localhost:8080/",
          "height": 68
        }
      },
      "source": [
        "%%bash\n",
        "echo \"Linea1\n",
        "Linea2\n",
        "Linea3\""
      ],
      "execution_count": 0,
      "outputs": [
        {
          "output_type": "stream",
          "text": [
            "Linea1\n",
            "Linea2\n",
            "Linea3\n"
          ],
          "name": "stdout"
        }
      ]
    },
    {
      "cell_type": "code",
      "metadata": {
        "id": "QFMwyNVp3w6b",
        "colab_type": "code",
        "outputId": "65302d22-758b-4842-a497-f6aefbf4637b",
        "colab": {
          "base_uri": "https://localhost:8080/",
          "height": 85
        }
      },
      "source": [
        "!seq -f \"Hola %g\" 4"
      ],
      "execution_count": 0,
      "outputs": [
        {
          "output_type": "stream",
          "text": [
            "Hola 1\n",
            "Hola 2\n",
            "Hola 3\n",
            "Hola 4\n"
          ],
          "name": "stdout"
        }
      ]
    },
    {
      "cell_type": "code",
      "metadata": {
        "id": "MY9Hcujt4Cbv",
        "colab_type": "code",
        "colab": {}
      },
      "source": [
        "%%bash\n",
        "echo CustomerID, Customer > out.txt\n",
        "echo    01, Customer A >> out.txt\n",
        "echo    02, Customer B >> out.txt\n",
        "echo 03,Customer C >> out.txt\n",
        "echo 10,Customer D >> out.txt"
      ],
      "execution_count": 0,
      "outputs": []
    },
    {
      "cell_type": "code",
      "metadata": {
        "id": "fZDNHizO4dCf",
        "colab_type": "code",
        "outputId": "d74c0f36-abf5-4141-9c33-a3db8c682ce6",
        "colab": {
          "base_uri": "https://localhost:8080/",
          "height": 102
        }
      },
      "source": [
        "!cat out.txt "
      ],
      "execution_count": 0,
      "outputs": [
        {
          "output_type": "stream",
          "text": [
            "CustomerID, Customer\n",
            "01, Customer A\n",
            "02, Customer B\n",
            "03,Customer C\n",
            "10,Customer D\n"
          ],
          "name": "stdout"
        }
      ]
    },
    {
      "cell_type": "code",
      "metadata": {
        "id": "LFy69W7e5zGt",
        "colab_type": "code",
        "outputId": "6f488e46-5913-422e-ec06-c467b42231b9",
        "colab": {
          "base_uri": "https://localhost:8080/",
          "height": 34
        }
      },
      "source": [
        "!tail -n 1 out.txt"
      ],
      "execution_count": 0,
      "outputs": [
        {
          "output_type": "stream",
          "text": [
            "10,Customer D\n"
          ],
          "name": "stdout"
        }
      ]
    },
    {
      "cell_type": "code",
      "metadata": {
        "id": "8VMv3HAm7e_9",
        "colab_type": "code",
        "outputId": "c75c1cde-7111-441e-d2e7-a6120cd916a9",
        "colab": {
          "base_uri": "https://localhost:8080/",
          "height": 51
        }
      },
      "source": [
        "!head -n 2 out.txt"
      ],
      "execution_count": 0,
      "outputs": [
        {
          "output_type": "stream",
          "text": [
            "CustomerID, Customer\n",
            "01, Customer A\n"
          ],
          "name": "stdout"
        }
      ]
    },
    {
      "cell_type": "code",
      "metadata": {
        "id": "po7q3kOO7jVy",
        "colab_type": "code",
        "outputId": "fd6e30bb-9d59-4bac-8799-b85f9bedfb68",
        "colab": {
          "base_uri": "https://localhost:8080/",
          "height": 170
        }
      },
      "source": [
        "!seq -f \"Texto %g\" 0 2 10> outA.txt\n",
        "!seq -f \"Texto %g\" 0 2 10> outB.txt\n",
        "!seq -f \"Texto %g\" 0 2 10> outC.txt\n",
        "!cat outA.txt outB.txt outC.txt"
      ],
      "execution_count": 0,
      "outputs": [
        {
          "output_type": "stream",
          "text": [
            "Texto 0\n",
            "Texto 1\n",
            "Texto 2\n",
            "Texto 0\n",
            "Texto 1\n",
            "Texto 2\n",
            "Texto 0\n",
            "Texto 1\n",
            "Texto 2\n"
          ],
          "name": "stdout"
        }
      ]
    },
    {
      "cell_type": "code",
      "metadata": {
        "id": "i9IAx79O8u-J",
        "colab_type": "code",
        "colab": {}
      },
      "source": [
        "%%bash\n",
        "cat > prueba2.txt <<FIN\n",
        "Hi\n",
        "HJHJH\n",
        "jjj\n",
        "hñ\n",
        "yfhty\n",
        "FIN\n"
      ],
      "execution_count": 0,
      "outputs": []
    },
    {
      "cell_type": "code",
      "metadata": {
        "id": "4fsD23PP9WjE",
        "colab_type": "code",
        "outputId": "37af7efc-a667-4738-e586-527f24fcd698",
        "colab": {
          "base_uri": "https://localhost:8080/",
          "height": 170
        }
      },
      "source": [
        "!ls -1"
      ],
      "execution_count": 0,
      "outputs": [
        {
          "output_type": "stream",
          "text": [
            "clase.txt\n",
            "demo.txt\n",
            "out.1\n",
            "outA.txt\n",
            "outB.txt\n",
            "outC.txt\n",
            "out.txt\n",
            "prueba2.txt\n",
            "sample_data\n"
          ],
          "name": "stdout"
        }
      ]
    },
    {
      "cell_type": "code",
      "metadata": {
        "id": "iTo_aAT1-l7K",
        "colab_type": "code",
        "outputId": "25257989-6694-4e78-f0de-dd514e16f8c8",
        "colab": {
          "base_uri": "https://localhost:8080/",
          "height": 34
        }
      },
      "source": [
        "x=!ls -1 *.txt\n",
        "print(x)"
      ],
      "execution_count": 0,
      "outputs": [
        {
          "output_type": "stream",
          "text": [
            "['clase.txt', 'demo.txt', 'outA.txt', 'outB.txt', 'outC.txt', 'out.txt', 'prueba2.txt']\n"
          ],
          "name": "stdout"
        }
      ]
    },
    {
      "cell_type": "code",
      "metadata": {
        "id": "FgiM6G9V-yR-",
        "colab_type": "code",
        "colab": {}
      },
      "source": [
        "!seq -f \"linea %g\" 3 > out.2\n",
        "!cat out.2 out.2 out.2 | sort -r > consolida"
      ],
      "execution_count": 0,
      "outputs": []
    },
    {
      "cell_type": "code",
      "metadata": {
        "id": "qEKqMy5t_irP",
        "colab_type": "code",
        "outputId": "5b2fd466-ca1c-4e1b-d2f4-500659d262bb",
        "colab": {
          "base_uri": "https://localhost:8080/",
          "height": 68
        }
      },
      "source": [
        "!uniq consolida"
      ],
      "execution_count": 0,
      "outputs": [
        {
          "output_type": "stream",
          "text": [
            "linea 3\n",
            "linea 2\n",
            "linea 1\n"
          ],
          "name": "stdout"
        }
      ]
    },
    {
      "cell_type": "code",
      "metadata": {
        "id": "y6y34BtwA8KP",
        "colab_type": "code",
        "outputId": "8e61386a-7465-431b-e12e-b8dc73de1f38",
        "colab": {
          "base_uri": "https://localhost:8080/",
          "height": 34
        }
      },
      "source": [
        "!wc consolida"
      ],
      "execution_count": 0,
      "outputs": [
        {
          "output_type": "stream",
          "text": [
            " 9 18 72 consolida\n"
          ],
          "name": "stdout"
        }
      ]
    },
    {
      "cell_type": "code",
      "metadata": {
        "id": "7ESm7NTjBmca",
        "colab_type": "code",
        "outputId": "5fb256a5-f23f-4dee-bd48-b2766139334d",
        "colab": {
          "base_uri": "https://localhost:8080/",
          "height": 68
        }
      },
      "source": [
        "!grep 2 consolida"
      ],
      "execution_count": 0,
      "outputs": [
        {
          "output_type": "stream",
          "text": [
            "linea 2\n",
            "linea 2\n",
            "linea 2\n"
          ],
          "name": "stdout"
        }
      ]
    },
    {
      "cell_type": "code",
      "metadata": {
        "id": "icVDbNmyB02P",
        "colab_type": "code",
        "outputId": "02c8f229-33b8-4928-e52c-1592ef3b2049",
        "colab": {
          "base_uri": "https://localhost:8080/",
          "height": 187
        }
      },
      "source": [
        "#Uno al final de la linea\n",
        "!seq 100 | grep 1$"
      ],
      "execution_count": 0,
      "outputs": [
        {
          "output_type": "stream",
          "text": [
            "1\n",
            "11\n",
            "21\n",
            "31\n",
            "41\n",
            "51\n",
            "61\n",
            "71\n",
            "81\n",
            "91\n"
          ],
          "name": "stdout"
        }
      ]
    },
    {
      "cell_type": "code",
      "metadata": {
        "id": "WuGnkFCkJUS5",
        "colab_type": "code",
        "outputId": "17bf1aa5-56ea-4447-9bbd-239f37158316",
        "colab": {
          "base_uri": "https://localhost:8080/",
          "height": 221
        }
      },
      "source": [
        "#Comienzan con 1\n",
        "!seq 100 | grep ^1"
      ],
      "execution_count": 0,
      "outputs": [
        {
          "output_type": "stream",
          "text": [
            "1\n",
            "10\n",
            "11\n",
            "12\n",
            "13\n",
            "14\n",
            "15\n",
            "16\n",
            "17\n",
            "18\n",
            "19\n",
            "100\n"
          ],
          "name": "stdout"
        }
      ]
    },
    {
      "cell_type": "code",
      "metadata": {
        "id": "nXpccWrSJfRI",
        "colab_type": "code",
        "outputId": "e7e14122-d13a-4922-96d9-55177c8a611a",
        "colab": {
          "base_uri": "https://localhost:8080/",
          "height": 34
        }
      },
      "source": [
        "#Quitar o remplazar\n",
        "!echo \"H-o-l-a\" >out.test\n",
        "!tr -d \"-\"<out.test"
      ],
      "execution_count": 0,
      "outputs": [
        {
          "output_type": "stream",
          "text": [
            "Hola\n"
          ],
          "name": "stdout"
        }
      ]
    },
    {
      "cell_type": "code",
      "metadata": {
        "id": "eC5INSrCKCgI",
        "colab_type": "code",
        "outputId": "e8de10e0-25cf-44d7-9e84-74cdcf3f054e",
        "colab": {
          "base_uri": "https://localhost:8080/",
          "height": 34
        }
      },
      "source": [
        "!echo \"T-e-a-m-o\" >out.test\n",
        "!tr \"-\" \"+\"<out.test"
      ],
      "execution_count": 0,
      "outputs": [
        {
          "output_type": "stream",
          "text": [
            "T+e+a+m+o\n"
          ],
          "name": "stdout"
        }
      ]
    },
    {
      "cell_type": "code",
      "metadata": {
        "id": "dJYY85YhKaj2",
        "colab_type": "code",
        "outputId": "581279c8-6bf7-4509-ba3f-e0db1cae3cd8",
        "colab": {
          "base_uri": "https://localhost:8080/",
          "height": 34
        }
      },
      "source": [
        "!echo \"\" >out.test\n",
        "!tr \"-\" \"+\"<out.test"
      ],
      "execution_count": 0,
      "outputs": [
        {
          "output_type": "stream",
          "text": [
            "\n"
          ],
          "name": "stdout"
        }
      ]
    },
    {
      "cell_type": "code",
      "metadata": {
        "id": "HoGPBocUM62t",
        "colab_type": "code",
        "colab": {}
      },
      "source": [
        "%%bash\n",
        "cat > out.txt <<EOF\n",
        "Date, Year, CustomerID, Value\n",
        "2013-01-12, 2013, 1, 100\n",
        "2014-05-12, 2014, 1, 100\n",
        "2013-02-25, 2013, 2, 200\n",
        "2013-04-04, 2013, 1, 100\n",
        "2013-06-21, 2013, 2, 200\n",
        "2014-05-12, 2014, 1, 100\n",
        "2014-05-12, 2014, 2, 200\n",
        "2013-02-28, 2013, 1, 100\n",
        "2013-08-02, 2013, 1, 100\n",
        "EOF"
      ],
      "execution_count": 0,
      "outputs": []
    },
    {
      "cell_type": "code",
      "metadata": {
        "id": "AadBUEoJNQXx",
        "colab_type": "code",
        "outputId": "b4896a79-4a50-4c5a-b9a9-64dd03e8e9c4",
        "colab": {
          "base_uri": "https://localhost:8080/",
          "height": 34
        }
      },
      "source": [
        "%%bash\n",
        "#tr '[:upper:]' '[:lower:]' '[DDDD]'\n",
        "\n",
        "echo \"D1D1\"| tr [:upper:] [:lower:]"
      ],
      "execution_count": 0,
      "outputs": [
        {
          "output_type": "stream",
          "text": [
            "d1d1\n"
          ],
          "name": "stdout"
        }
      ]
    },
    {
      "cell_type": "code",
      "metadata": {
        "id": "kUUAfQShOOdp",
        "colab_type": "code",
        "colab": {}
      },
      "source": [
        "%%bash\n",
        "head -n 1 out.txt | tr [:upper:] [:lower:] >> columnas.txt && tail +2 out.txt >>columnas.txt\n",
        "\n"
      ],
      "execution_count": 0,
      "outputs": []
    },
    {
      "cell_type": "code",
      "metadata": {
        "id": "cQ9ySn1XOXfg",
        "colab_type": "code",
        "outputId": "eabfb9ca-88b7-4262-bf0a-1f6ee0510070",
        "colab": {
          "base_uri": "https://localhost:8080/",
          "height": 187
        }
      },
      "source": [
        "%%bash\n",
        "cat columnas.txt"
      ],
      "execution_count": 0,
      "outputs": [
        {
          "output_type": "stream",
          "text": [
            "date, year, customerid, value\n",
            "2013-01-12, 2013, 1, 100\n",
            "2014-05-12, 2014, 1, 100\n",
            "2013-02-25, 2013, 2, 200\n",
            "2013-04-04, 2013, 1, 100\n",
            "2013-06-21, 2013, 2, 200\n",
            "2014-05-12, 2014, 1, 100\n",
            "2014-05-12, 2014, 2, 200\n",
            "2013-02-28, 2013, 1, 100\n",
            "2013-08-02, 2013, 1, 100\n"
          ],
          "name": "stdout"
        }
      ]
    },
    {
      "cell_type": "code",
      "metadata": {
        "id": "E6lqItGLSsjm",
        "colab_type": "code",
        "outputId": "be1fc629-1d03-4430-c073-765f9105735d",
        "colab": {
          "base_uri": "https://localhost:8080/",
          "height": 34
        }
      },
      "source": [
        "#Cuenta el número de columnas\n",
        "%%bash\n",
        "head -n 1 ./sample_data/mnist_test.csv | tr \",\" \"\\n\" | wc -l"
      ],
      "execution_count": 0,
      "outputs": [
        {
          "output_type": "stream",
          "text": [
            "785\n"
          ],
          "name": "stdout"
        }
      ]
    },
    {
      "cell_type": "code",
      "metadata": {
        "id": "9roNn2BnUDND",
        "colab_type": "code",
        "outputId": "aa789dac-d2ef-4b37-8fa5-7c481fae8626",
        "colab": {
          "base_uri": "https://localhost:8080/",
          "height": 85
        }
      },
      "source": [
        "%%bash\n",
        "head -n 1 columnas.txt | tr \",\" \"\\n\""
      ],
      "execution_count": 0,
      "outputs": [
        {
          "output_type": "stream",
          "text": [
            "date\n",
            " year\n",
            " customerid\n",
            " value\n"
          ],
          "name": "stdout"
        }
      ]
    },
    {
      "cell_type": "code",
      "metadata": {
        "id": "bpPHDKyBVSbJ",
        "colab_type": "code",
        "outputId": "f2399adf-27f6-40e4-ce69-c1f0a046d0e2",
        "colab": {
          "base_uri": "https://localhost:8080/",
          "height": 85
        }
      },
      "source": [
        "%%bash\n",
        "echo \"123456790\n",
        "abcdefghi\n",
        "jklmnopqr\" > out.1\n",
        "\n",
        "colrm 2 2 < out.1 >> aux && aux |colrm 8 8 < out.1"
      ],
      "execution_count": 0,
      "outputs": [
        {
          "output_type": "stream",
          "text": [
            "12345670\n",
            "abcdefgi\n",
            "jklmnopr\n"
          ],
          "name": "stdout"
        },
        {
          "output_type": "stream",
          "text": [
            "bash: line 5: aux: command not found\n"
          ],
          "name": "stderr"
        }
      ]
    },
    {
      "cell_type": "code",
      "metadata": {
        "id": "a9HdaL_HZrv8",
        "colab_type": "code",
        "outputId": "ef839042-8798-4417-bf59-1088431ecaf9",
        "colab": {
          "base_uri": "https://localhost:8080/",
          "height": 68
        }
      },
      "source": [
        "!cat out.1"
      ],
      "execution_count": 0,
      "outputs": [
        {
          "output_type": "stream",
          "text": [
            "123456790\n",
            "abcdefghi\n",
            "jklmnopqr\n"
          ],
          "name": "stdout"
        }
      ]
    },
    {
      "cell_type": "code",
      "metadata": {
        "id": "ZzsAfyssaiAZ",
        "colab_type": "code",
        "colab": {}
      },
      "source": [
        "%%bash\n",
        "seq 30 > out.1"
      ],
      "execution_count": 0,
      "outputs": []
    },
    {
      "cell_type": "code",
      "metadata": {
        "id": "k4yHWU90cxUW",
        "colab_type": "code",
        "outputId": "2017e5f0-8ef7-4e1f-c4b3-802b21e6a9ff",
        "colab": {
          "base_uri": "https://localhost:8080/",
          "height": 34
        }
      },
      "source": [
        "!sed -n '3p' out.1"
      ],
      "execution_count": 0,
      "outputs": [
        {
          "output_type": "stream",
          "text": [
            "3\n"
          ],
          "name": "stdout"
        }
      ]
    },
    {
      "cell_type": "code",
      "metadata": {
        "id": "FMLSjVV9c1JM",
        "colab_type": "code",
        "outputId": "f715db63-417f-49a8-820b-06bf165c6b37",
        "colab": {
          "base_uri": "https://localhost:8080/",
          "height": 136
        }
      },
      "source": [
        "!sed -n '3p;6p' out.1\n",
        "!echo \"\\n\"\n",
        "!sed -n '3,6p' out.1"
      ],
      "execution_count": 0,
      "outputs": [
        {
          "output_type": "stream",
          "text": [
            "3\n",
            "6\n",
            "n\n",
            "3\n",
            "4\n",
            "5\n",
            "6\n"
          ],
          "name": "stdout"
        }
      ]
    },
    {
      "cell_type": "code",
      "metadata": {
        "id": "zjAdt5j8dEyg",
        "colab_type": "code",
        "outputId": "4b3f6289-6ac8-40e3-edc1-8faa17f3d8a5",
        "colab": {
          "base_uri": "https://localhost:8080/",
          "height": 68
        }
      },
      "source": [
        "!sed -n '/1$/p'  out.1\n",
        "!sed -n '/^1/p'  out.1"
      ],
      "execution_count": 0,
      "outputs": [
        {
          "output_type": "stream",
          "text": [
            "1\n",
            "11\n",
            "21\n"
          ],
          "name": "stdout"
        }
      ]
    },
    {
      "cell_type": "code",
      "metadata": {
        "id": "mtpL53khdfo7",
        "colab_type": "code",
        "colab": {}
      },
      "source": [
        ""
      ],
      "execution_count": 0,
      "outputs": []
    }
  ]
}